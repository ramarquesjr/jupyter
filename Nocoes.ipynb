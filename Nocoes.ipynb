{
 "cells": [
  {
   "cell_type": "markdown",
   "id": "63188084",
   "metadata": {
    "slideshow": {
     "slide_type": "slide"
    }
   },
   "source": [
    "# Noções básicas do Jupyter\n",
    "-------"
   ]
  },
  {
   "cell_type": "markdown",
   "id": "4dd23325",
   "metadata": {
    "slideshow": {
     "slide_type": "slide"
    }
   },
   "source": [
    "## Introdução"
   ]
  },
  {
   "cell_type": "markdown",
   "id": "c49762a9",
   "metadata": {
    "slideshow": {
     "slide_type": "subslide"
    }
   },
   "source": [
    "O ``Jupyter`` é uma aplicação web que permite compartilhar e criar documentos computacionais que envolvam códigos, simulações e seus resultados. Assim é possível documentar toda a \"história\" da pesquisa, através de um documento interativo que permite a organização de ideias de forma simples e direta."
   ]
  },
  {
   "cell_type": "markdown",
   "id": "ea60f593",
   "metadata": {
    "slideshow": {
     "slide_type": "subslide"
    }
   },
   "source": [
    "Outro uso importante é a execução fracionada de código, que facilita a realização de testes breves. Permite ainda descrição de modelos e observações científicas misturando-se códigos e texto (inclusive fórmulas)."
   ]
  },
  {
   "cell_type": "markdown",
   "id": "a4c440c5",
   "metadata": {
    "slideshow": {
     "slide_type": "subslide"
    }
   },
   "source": [
    "Um dos usos mais notáveis da aplicação é a possibilidade de se garantir a reprodução das observações, permitindo que outros interessados no conteúdo possam verificar, melhorar e estender as percepções."
   ]
  },
  {
   "attachments": {
    "barras.png": {
     "image/png": "[encoded data removed]"
    }
   },
   "cell_type": "markdown",
   "id": "98232f1a",
   "metadata": {
    "slideshow": {
     "slide_type": "slide"
    }
   },
   "source": [
    "## O básico\n",
    "\n",
    "No ``Jupyter``, cada arquivo com a extensão ``.ipynb`` representa um novo arquivo de notas. Estes arquivos, possuem uma série de _células_ que possuem um determinado tipo. Este tipo indica à aplicação como ela deve tratar o conteúdo ali contido e pode ser visto nas barras.\n",
    "\n",
    "<center><img src=\"attachment:barras.png\" /> </center>"
   ]
  },
  {
   "cell_type": "markdown",
   "id": "a9c4567f",
   "metadata": {
    "slideshow": {
     "slide_type": "slide"
    }
   },
   "source": [
    "Abaixo vemos um célula do tipo _code_.\n",
    "\n",
    "Note que a presente célula (este texto) possui o tipo _Markdown_, que é uma linguagem simples de marcação de texto, que nos permitiu redigir essa mensagem.\n",
    "\n",
    "O tipo _Heading_ adiciona uma célula com a notação de um cabeçalho utilizado em _Markdown_. <s>JupyterLab</s>"
   ]
  },
  {
   "cell_type": "code",
   "execution_count": 1,
   "id": "d5830a39",
   "metadata": {
    "slideshow": {
     "slide_type": "fragment"
    }
   },
   "outputs": [],
   "source": [
    "x=2"
   ]
  },
  {
   "cell_type": "markdown",
   "id": "cd7d29dc",
   "metadata": {
    "slideshow": {
     "slide_type": "subslide"
    }
   },
   "source": [
    "Um tipo de célula tida como \"esotérica\" para muitos é o _Raw NBconvert_ ou _Raw_. A suite do ``ipython/jupyter`` possui a opção ``nbconvert`` que permite transformar um arquivo de notebook ``.ipynb`` em outros formatos de documentos. O conteúdo desta célula terá o processamento ignorado pela ferramenta, sendo colocado _ipsis litteris_ no arquivo convertido. Como exemplo, a célula subsequente contem um trecho de código ``Latex`` que adiciona uma equação no documento final."
   ]
  },
  {
   "cell_type": "markdown",
   "id": "e881e4b5",
   "metadata": {
    "slideshow": {
     "slide_type": "subslide"
    }
   },
   "source": [
    "O comando abaixo converte o presente notebook em um arquivo ``Latex``. O comando utiliza internamente o ``Pandoc``, uma suíte de conversão de documentos que utilizem de algum formato de marcação para outro.\n",
    "```bash\n",
    "ipython nbconvert --to latex Nocoes.ipynb\n",
    "```\n",
    "\n",
    "O documento fruto da conversão pode ser visto [aqui](docs/Nocoes.tex). Depois de \"compilado\" o arquivo de saída fica [assim](docs/Nocoes.pdf). Podemos ver que a instrução ``Latex`` utilizada na célula foi fielmente disposta no documento convertido."
   ]
  },
  {
   "cell_type": "raw",
   "id": "14176ad0",
   "metadata": {
    "slideshow": {
     "slide_type": "subslide"
    }
   },
   "source": [
    "\\begin{equation}\n",
    "    \\delta = b^2-4ac\n",
    "\\end{equation}"
   ]
  },
  {
   "attachments": {
    "modos.png": {
     "image/png": "[encoded data removed]"
    }
   },
   "cell_type": "markdown",
   "id": "12b6f412",
   "metadata": {
    "slideshow": {
     "slide_type": "slide"
    }
   },
   "source": [
    "### Trabalhando com as células\n",
    "\n",
    "Existem dois modos de trabalho com as células, que são observados pela cor ao lado da célula. \n",
    "\n",
    "<br /><center> <img src=\"attachment:modos.png\" /> </center>"
   ]
  },
  {
   "cell_type": "markdown",
   "id": "020ea180",
   "metadata": {
    "slideshow": {
     "slide_type": "subslide"
    }
   },
   "source": [
    "### Básico (modo de comando)\n",
    "\n",
    "- `Enter` habilita a edição da célula selecionada\n",
    "- `Esc` retorna ao modo de comando\n",
    "- As setas `Cima`e `Baixo` permitem a navegação entre as células\n",
    "- `Shift` + `Enter` permite executar uma célula e selecionar a célula abaixo\n",
    "- `Ctrl` + `Enter` apenas executa a célula selecionada\n",
    "- `Alt` + `Enter` para executar uma célula e adicionar outra célula abaixo\n",
    "-  Em casos de dúvida a tecla `h` mostra um painel de ajuda com essas e outras combinações"
   ]
  },
  {
   "cell_type": "markdown",
   "id": "f579c0d4",
   "metadata": {
    "slideshow": {
     "slide_type": "subslide"
    }
   },
   "source": [
    "### Outros (modo de comando)\n",
    "\n",
    "- `dd` delete a célula corrente\n",
    "- `z` desfaz algo feito no modo de comando\n",
    "- `c` copia a célula corrente\n",
    "- `a` adiciona uma célula nova acima\n",
    "- `b` adiciona uma célula nova abaixo\n",
    "- `c` copia a célula corrente"
   ]
  },
  {
   "cell_type": "markdown",
   "id": "1882a568",
   "metadata": {
    "slideshow": {
     "slide_type": "subslide"
    }
   },
   "source": [
    "- `x` recorta a célula corrente\n",
    "- `v` cola a célula abaixo\n",
    "- `k`e `j` movimenta entre as células para cima e para baixo, respectivamente\n",
    "- `p` abre um seletor dos comandos possíveis no Jupyter\n",
    "- `Shift` + `cima|baixo` seleciona células\n",
    "- `m` altera a célula para o tipo para  _Markdown_\n",
    "- `y` altera a célula para o tipo para _Code_"
   ]
  },
  {
   "cell_type": "markdown",
   "id": "8e02d97b",
   "metadata": {
    "slideshow": {
     "slide_type": "subslide"
    }
   },
   "source": [
    "- `Shift` + `m` mescla as células selecionadas\n",
    "- `f` abre um \"localizar e substituir\""
   ]
  },
  {
   "cell_type": "markdown",
   "id": "40dfa1a6",
   "metadata": {
    "slideshow": {
     "slide_type": "slide"
    }
   },
   "source": [
    "### Modo de edição\n",
    "\n",
    "- `Ctrl` + `[` e `Ctrl` + `]` para indentar a linha na célula\n",
    "- `Shift` + `Ctrl` + `-` para dividir a célula em duas a partir do cursor.\n",
    "- `Shift` + `Enter` executa a célula e vai para a próxima\n",
    "- `Ctrl` + `Enter` apenas executa a célula\n",
    "- `Alt` + `Enter` para executar uma célula e inserir um nova abaixo\n",
    "- `Tab` habilita o autocompletar\n",
    "- `Shift` + `Tab` abre um menu com as orientações do comando (docstrings)"
   ]
  },
  {
   "cell_type": "markdown",
   "id": "2b92db41",
   "metadata": {
    "slideshow": {
     "slide_type": "subslide"
    }
   },
   "source": [
    "### Multicursor\n",
    "\n",
    "- Segure `Alt` e selecione com o mouse as linhas que se quer editar."
   ]
  },
  {
   "cell_type": "markdown",
   "id": "0404c0ec",
   "metadata": {
    "slideshow": {
     "slide_type": "slide"
    }
   },
   "source": [
    "### Vamos experimentar?"
   ]
  },
  {
   "cell_type": "code",
   "execution_count": 2,
   "id": "a581719e",
   "metadata": {
    "slideshow": {
     "slide_type": "-"
    }
   },
   "outputs": [
    {
     "data": {
      "text/plain": [
       "6"
      ]
     },
     "execution_count": 2,
     "metadata": {},
     "output_type": "execute_result"
    }
   ],
   "source": [
    "2+2\n",
    "3+3"
   ]
  },
  {
   "cell_type": "code",
   "execution_count": 3,
   "id": "8619209f",
   "metadata": {},
   "outputs": [
    {
     "name": "stdout",
     "output_type": "stream",
     "text": [
      "Testando o Jupyter\n"
     ]
    }
   ],
   "source": [
    "print('Testando o Jupyter')"
   ]
  },
  {
   "cell_type": "code",
   "execution_count": 4,
   "id": "f9324f48",
   "metadata": {},
   "outputs": [],
   "source": [
    "import numpy as np"
   ]
  },
  {
   "cell_type": "code",
   "execution_count": 5,
   "id": "bc9409c3",
   "metadata": {},
   "outputs": [],
   "source": [
    "teste = 2"
   ]
  },
  {
   "cell_type": "code",
   "execution_count": 6,
   "id": "0f8f1ca5",
   "metadata": {},
   "outputs": [
    {
     "data": {
      "text/plain": [
       "2"
      ]
     },
     "execution_count": 6,
     "metadata": {},
     "output_type": "execute_result"
    }
   ],
   "source": [
    "teste"
   ]
  },
  {
   "cell_type": "markdown",
   "id": "d3525a01",
   "metadata": {
    "slideshow": {
     "slide_type": "slide"
    }
   },
   "source": [
    "### Um pouco sobre a exportação de documentos."
   ]
  },
  {
   "cell_type": "code",
   "execution_count": 7,
   "id": "96a429d5-2ebc-4480-9daa-a7f5e6a804ab",
   "metadata": {},
   "outputs": [
    {
     "name": "stdout",
     "output_type": "stream",
     "text": [
      "[NbConvertApp] Converting notebook Nocoes.ipynb to latex\n",
      "[NbConvertApp] Writing 31051 bytes to docs/Nocoes.tex\n"
     ]
    }
   ],
   "source": [
    "!jupyter nbconvert --output-dir=\"./docs/\" --to latex Nocoes.ipynb"
   ]
  },
  {
   "cell_type": "code",
   "execution_count": 8,
   "id": "4db70fce-b555-4bfb-8751-093d89fa7a21",
   "metadata": {},
   "outputs": [
    {
     "name": "stdout",
     "output_type": "stream",
     "text": [
      "[NbConvertApp] Converting notebook Nocoes.ipynb to html\n",
      "[NbConvertApp] Writing 577473 bytes to docs/Nocoes.html\n"
     ]
    }
   ],
   "source": [
    "!jupyter nbconvert --output-dir=\"./docs/\" --to html Nocoes.ipynb"
   ]
  },
  {
   "cell_type": "code",
   "execution_count": 9,
   "id": "9b5c3f51",
   "metadata": {},
   "outputs": [
    {
     "name": "stdout",
     "output_type": "stream",
     "text": [
      "[NbConvertApp] Converting notebook Slide.ipynb to slides\n",
      "[NbConvertApp] Writing 575555 bytes to docs/Slide.slides.html\n"
     ]
    }
   ],
   "source": [
    "!jupyter nbconvert --output-dir=\"./docs/\" --to slides Slide.ipynb"
   ]
  },
  {
   "cell_type": "markdown",
   "id": "18bd3288",
   "metadata": {
    "slideshow": {
     "slide_type": "slide"
    }
   },
   "source": [
    "### Recurso adicional (executar outro notebook)\n",
    "\n",
    "Forma diferente de se separar e organizar códigos muito grandes.\n",
    "> %run ./imported.ipynb"
   ]
  },
  {
   "cell_type": "code",
   "execution_count": 10,
   "id": "3a9848af",
   "metadata": {},
   "outputs": [
    {
     "ename": "NameError",
     "evalue": "name 'funcao' is not defined",
     "output_type": "error",
     "traceback": [
      "\u001b[0;31m---------------------------------------------------------------------------\u001b[0m",
      "\u001b[0;31mNameError\u001b[0m                                 Traceback (most recent call last)",
      "\u001b[0;32m/tmp/ipykernel_699/1064730495.py\u001b[0m in \u001b[0;36m<module>\u001b[0;34m\u001b[0m\n\u001b[0;32m----> 1\u001b[0;31m \u001b[0mfuncao\u001b[0m\u001b[0;34m(\u001b[0m\u001b[0;34m'Oiiii'\u001b[0m\u001b[0;34m)\u001b[0m\u001b[0;34m\u001b[0m\u001b[0;34m\u001b[0m\u001b[0m\n\u001b[0m",
      "\u001b[0;31mNameError\u001b[0m: name 'funcao' is not defined"
     ]
    }
   ],
   "source": [
    "funcao('Oiiii')"
   ]
  },
  {
   "cell_type": "code",
   "execution_count": 11,
   "id": "c064365b",
   "metadata": {},
   "outputs": [
    {
     "name": "stdout",
     "output_type": "stream",
     "text": [
      "Oiiii\n"
     ]
    },
    {
     "data": {
      "text/plain": [
       "(None, 10)"
      ]
     },
     "execution_count": 11,
     "metadata": {},
     "output_type": "execute_result"
    }
   ],
   "source": [
    "%run ./imported.ipynb\n",
    "funcao('Oiiii'), z"
   ]
  },
  {
   "cell_type": "markdown",
   "id": "0e863d22",
   "metadata": {
    "slideshow": {
     "slide_type": "slide"
    }
   },
   "source": [
    "## Continua em ...\n",
    "- Noções básicas e de navegação do Jupyter\n",
    "    - [Markdown e outras marcações](Textos.ipynb)\n",
    "    - Exemplos"
   ]
  }
 ],
 "metadata": {
  "kernelspec": {
   "display_name": "Python 3 (ipykernel)",
   "language": "python",
   "name": "python3"
  },
  "language_info": {
   "codemirror_mode": {
    "name": "ipython",
    "version": 3
   },
   "file_extension": ".py",
   "mimetype": "text/x-python",
   "name": "python",
   "nbconvert_exporter": "python",
   "pygments_lexer": "ipython3",
   "version": "3.8.10"
  },
  "latex_envs": {
   "LaTeX_envs_menu_present": true,
   "autoclose": false,
   "autocomplete": true,
   "bibliofile": "biblio.bib",
   "cite_by": "apalike",
   "current_citInitial": 1,
   "eqLabelWithNumbers": true,
   "eqNumInitial": 1,
   "hotkeys": {
    "equation": "Ctrl-E",
    "itemize": "Ctrl-I"
   },
   "labels_anchors": false,
   "latex_user_defs": false,
   "report_style_numbering": false,
   "user_envs_cfg": false
  },
  "livereveal": {
   "autolaunch": true
  }
 },
 "nbformat": 4,
 "nbformat_minor": 5
}
