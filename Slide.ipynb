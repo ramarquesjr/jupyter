{
 "cells": [
  {
   "cell_type": "markdown",
   "id": "4815dc18",
   "metadata": {
    "slideshow": {
     "slide_type": "slide"
    }
   },
   "source": [
    "# O ecosistema Jupyter\n",
    "## Uma brevíssima introdução\n",
    "----"
   ]
  },
  {
   "cell_type": "markdown",
   "id": "bbbc3f8f",
   "metadata": {
    "slideshow": {
     "slide_type": "slide"
    }
   },
   "source": [
    "Do que falaremos ...\n",
    "\n",
    "<table>\n",
    "    <tr>\n",
    "        <td style=\"width: 150px\"> <img src=\"img/ipython.jpg\" width=\"100\"> </td>\n",
    "        <td style=\"width: 150px\"> <img src=\"img/jupyter.png\" width=\"100\"> </td> \n",
    "        <td style=\"width: 150px\"> <img src=\"img/jupyterlab.jpg\" width=\"100\"> </td>\n",
    "        <td style=\"width: 150px\"> <img src=\"img/binder.png\" width=\"130\"> </td>\n",
    "    </tr>\n",
    "</table>"
   ]
  },
  {
   "cell_type": "markdown",
   "id": "01e39e0f",
   "metadata": {
    "slideshow": {
     "slide_type": "subslide"
    }
   },
   "source": [
    "Uma breve história ...\n",
    "\n",
    "<center><img src=\"img/timeline.png\" width=\"400\"></center>"
   ]
  },
  {
   "cell_type": "markdown",
   "id": "2ac825d2",
   "metadata": {
    "slideshow": {
     "slide_type": "subslide"
    }
   },
   "source": [
    "- *iPython*: foco no código, desenvolvimento interativo e de fácil reprodução.\n",
    "- *iPython Notebook*: baseado no `iPython`, que permitiria anotoções e uma melhor organização de ideias e que utiliza o iPython como _kernel_ para a execução de códigos `Python`.\n",
    "- *O projeto Jupyter*."
   ]
  },
  {
   "cell_type": "markdown",
   "id": "6716cf6d",
   "metadata": {
    "slideshow": {
     "slide_type": "slide"
    }
   },
   "source": [
    "### O projeto Jupyter\n",
    "\n",
    "Evoluiu da ideia do `iPython Notebook` e que tem como premissas:\n",
    "- Utiliza um formato aberto baseado em JSON. Incluindo texto, códigos, equações etc.\n",
    "- O _notebook_ se comunica com os _kernels_ utilizando protocolos abertos ZMQ e WebSockets\n",
    "- Os kernels que processam os códigos e que retornam a saída para o notebook/usuário."
   ]
  },
  {
   "cell_type": "markdown",
   "id": "8f5c807d",
   "metadata": {
    "slideshow": {
     "slide_type": "subslide"
    }
   },
   "source": [
    "- *Jupyter Notebook*: Extensível, com utilização de diferentes _kernels_ e que permitiria anotações e organização de ideias.\n",
    "    - [Kernels](https://github.com/jupyter/jupyter/wiki/Jupyter-kernels)\n",
    "    - [Visão Geral](http://127.0.0.1:8888/tree/jupyter)\n",
    "- *JupyterLab*: Um ambiente maior, com diferentes recursos de visualização, usabilidade, gerência e ainda mais extensível.\n",
    "    - [Visão Geral](http://127.0.0.1:8887)"
   ]
  },
  {
   "cell_type": "markdown",
   "id": "5a6c97eb",
   "metadata": {
    "slideshow": {
     "slide_type": "subslide"
    }
   },
   "source": [
    "- *Binder*: dependências, versões de pacotes e ambiente são um problema? Não deveriam ser ...\n",
    "    - [Exemplo](https://mybinder.org/v2/gh/ramarquesjr/jupyter/HEAD?filepath=Slide.ipynb)\n",
    "    - [GitHub](https://github.com/ramarquesjr/jupyter)\n",
    "- *JupyterHub*: uma infraestrutura que provê notebooks multi-usuários pensado para companhias e laboratórios de pesquisa."
   ]
  },
  {
   "cell_type": "markdown",
   "id": "48bdcab6",
   "metadata": {
    "slideshow": {
     "slide_type": "subslide"
    }
   },
   "source": [
    "### O que esperar\n",
    "\n",
    "- O futuro de experimentos e documentação utilizando computação interativa.\n",
    "- Organização melhorada de ideias\n",
    "- Interatividade e facilidade no aprendizado\n",
    "- Extremamente relevante na área de ciência de dados\n",
    "- Projetos como o [Jupyter Book](https://jupyterbook.org/intro.html) estendem uma série de funcionalidades e permitem a produção de documentos com maiores recursos."
   ]
  },
  {
   "cell_type": "markdown",
   "id": "4ef3a4f6",
   "metadata": {
    "slideshow": {
     "slide_type": "subslide"
    }
   },
   "source": [
    "### Algumas empresas que usam ...\n",
    "\n",
    "<br/><center> <img src=\"img/quemusa.png\" width=700 /> </center>"
   ]
  },
  {
   "cell_type": "markdown",
   "id": "ed5cbf7c",
   "metadata": {
    "slideshow": {
     "slide_type": "subslide"
    }
   },
   "source": [
    "### Google Colab\n",
    "\n",
    "<center><img src=\"img/colab.png\" width=\"200\"></center>\n",
    "\n",
    "- Baseado no Jupyter e suporta diversos pacotes diferentes.\n",
    "- Recursos computacionais gratuitos disponíveis (GPU, memória ...)\n",
    "- Um Jupyter com esteróides...\n",
    "- [Link](https://colab.research.google.com)\n"
   ]
  },
  {
   "cell_type": "markdown",
   "id": "cc8ce84e",
   "metadata": {
    "slideshow": {
     "slide_type": "subslide"
    }
   },
   "source": [
    "### Nesta introdução ...\n",
    "- [Gerenciamento de pacotes](#gerenciamento)\n",
    "- [Instalação do Jupyter/JupyterLab](#instalacao)"
   ]
  },
  {
   "cell_type": "markdown",
   "id": "269c6547",
   "metadata": {
    "slideshow": {
     "slide_type": "slide"
    }
   },
   "source": [
    "<a id=\"gerenciamento\"> </a>\n",
    "## Como gerenciar diferentes pacotes\n",
    "\n",
    "A escolha do gerenciador de pacotes é um passo importante. Alternativas:\n",
    "\n",
    "- [pip](https://pypi.org/project/pip/) - Gerenciador de pacotes do Python\n",
    "- [conda](https://docs.conda.io/en/latest/) - Gerenciador de pacotes e dependências que trabalha com qualquer linguagem e múltiplas plataformas.\n",
    "- [mamba](https://github.com/mamba-org/mamba) - Gerenciador de pacote em múltiplas plataforma escrito em C++"
   ]
  },
  {
   "cell_type": "markdown",
   "id": "a5f41ffe",
   "metadata": {
    "slideshow": {
     "slide_type": "subslide"
    }
   },
   "source": [
    "### _Instaladores_\n",
    "\n",
    "Canal próprio de pacotes, provido pela _Anaconda Inc_.\n",
    "- [Miniconda](https://docs.conda.io/en/latest/miniconda.html#) - Instalador possui o _conda_, _Python_ e outros pacotes básicos e dependências.\n",
    "- [Anaconda](https://www.anaconda.com/products/individual) - Solução mais completa, com diversos pacotes frequentemente utilizados em ciência de dados.\n",
    "    - Interface amiguável, inclusive para a instalação de novos pacotes. Solução frequente em ambientes _Microsoft Windows_."
   ]
  },
  {
   "cell_type": "markdown",
   "id": "ee1bb106",
   "metadata": {
    "slideshow": {
     "slide_type": "subslide"
    }
   },
   "source": [
    "### Exemplo de instalação: _Anaconda_\n",
    "<table>\n",
    "    <tr>\n",
    "        <td style=\"width: 500px\"> <img src=\"img/a1.png\"> </td>\n",
    "        <td style=\"width: 500px\"> <img src=\"img/a2.png\"> </td> \n",
    "        <td style=\"width: 500px\"> <img src=\"img/a3.png\"> </td>\n",
    "        <td style=\"width: 500px\"> <img src=\"img/a4.png\"> </td>\n",
    "    </tr>\n",
    "    <tr>\n",
    "        <td style=\"width: 500px\"> <img src=\"img/a5.png\"> </td>\n",
    "        <td style=\"width: 500px\"> <img src=\"img/a6.png\"> </td> \n",
    "        <td style=\"width: 500px\"> <img src=\"img/a7.png\"> </td>\n",
    "        <td style=\"width: 500px\"> <img src=\"img/a8.png\"> </td>\n",
    "    </tr>\n",
    "</table>"
   ]
  },
  {
   "cell_type": "markdown",
   "id": "845b8064",
   "metadata": {
    "slideshow": {
     "slide_type": "subslide"
    }
   },
   "source": [
    "### _Instaladores_\n",
    "\n",
    "Existe o [conda-forge](https://conda-forge.org/), um repositório mantido pela comunidade e que possui inclusive pacotes mais atualizados do que se vê no canal da _Anaconda Inc_.\n",
    "- [Miniforge](https://github.com/conda-forge/miniforge#mambaforge) - Equivalente ao _Miniconda_, que utiliza o _conda-forge_ como repositório de pacotes e que suporte diferentes arquiteturas/processadores."
   ]
  },
  {
   "cell_type": "markdown",
   "id": "0e63931d",
   "metadata": {
    "slideshow": {
     "slide_type": "subslide"
    }
   },
   "source": [
    "### Exemplo de instalação: _micromamba_\n",
    "\n",
    "- O _micromamba_ e o _conda_ são bastante semelhantes. Instalação do _micromamba_:\n",
    "```bash\n",
    "wget -qO- https://micromamba.snakepit.net/api/micromamba/linux-64/latest | tar -xvj bin/micromamba\n",
    "./bin/micromamba shell init -s bash -p ~/micromamba\n",
    "source ~/.bashrc\n",
    "```"
   ]
  },
  {
   "cell_type": "markdown",
   "id": "431bc36d",
   "metadata": {
    "slideshow": {
     "slide_type": "slide"
    }
   },
   "source": [
    "<a id=\"instalacao\"> </a>\n",
    "## Instalação do Jupyter/JupyterLab\n",
    "\n",
    "- O processo de instalação com diferentes gerenciadores de pacote pode variar um pouco, mas são bastante semelhantes.\n",
    "- O Anaconda já conta com a instalação do Jupyter."
   ]
  },
  {
   "cell_type": "markdown",
   "id": "d7ae51dc",
   "metadata": {
    "slideshow": {
     "slide_type": "subslide"
    }
   },
   "source": [
    "###  _micromamba_/_conda_\n",
    " \n",
    "- Ativa o ambiente para instalar novos pacotes ou ainda criar outros ambientes ...\n",
    "```bash\n",
    "micromamba activate\n",
    "micromamba install python=3.6 jupyter -c conda-forge\n",
    "# or\n",
    "micromamba create -p /some/new/prefix jupyterlab -c conda-forge\n",
    "micromamba activate /some/new/prefix\n",
    "```"
   ]
  },
  {
   "cell_type": "markdown",
   "id": "beb8797e",
   "metadata": {
    "slideshow": {
     "slide_type": "subslide"
    }
   },
   "source": [
    "### _pip_\n",
    "\n",
    "- O mais simples de todos.\n",
    "```bash\n",
    "pip install notebook\n",
    "pip install jupyterlab\n",
    "```\n",
    "- Se tem o _Python_ tem o _pip_. Caso não tenha ...\n",
    "```bash\n",
    "apt-get install python3-pip\n",
    "```"
   ]
  },
  {
   "cell_type": "markdown",
   "id": "46702c80",
   "metadata": {
    "slideshow": {
     "slide_type": "subslide"
    }
   },
   "source": [
    "### Iniciando\n",
    "- Iniciando o Notebook\n",
    "```bash\n",
    "jupyter notebook\n",
    "```\n",
    "- Iniciando o JupyterLab\n",
    "```bash\n",
    "jupyter-lab\n",
    "```"
   ]
  },
  {
   "cell_type": "markdown",
   "id": "6296cd67",
   "metadata": {
    "slideshow": {
     "slide_type": "slide"
    }
   },
   "source": [
    "## Continua em ...\n",
    "- Noções básicas e de navegação do Jupyter\n",
    "    - [Noções básicas do Jupyter/Jupyterlab](Nocoes.ipynb)\n",
    "    - [Markdown e outras marcações](Textos.ipynb)\n",
    "    - Exemplos"
   ]
  },
  {
   "cell_type": "markdown",
   "id": "8daf1541",
   "metadata": {
    "slideshow": {
     "slide_type": "skip"
    }
   },
   "source": [
    "https://jupyterbook.org/intro.html\n",
    "\n",
    "https://www.youtube.com/watch?v=RXLRIHaabaI\n",
    "\n",
    "https://www.youtube.com/watch?v=zVaMHGlSyh4\n",
    "\n",
    "https://queirozf.com/entries/jupyter-kernels-how-to-add-change-remove\n",
    "\n",
    "https://indico.rnp.br/event/21/contributions/195/attachments/109/185/Tutorial_de_Jupyter_Notebook_-_RNP_-_Infraestrutura.pdf\n",
    "https://nbviewer.jupyter.org/github/ipython/nbconvert-examples/blob/master/citations/Tutorial.ipynb"
   ]
  },
  {
   "cell_type": "markdown",
   "id": "6b540c6b",
   "metadata": {
    "slideshow": {
     "slide_type": "skip"
    }
   },
   "source": [
    "Package name PKN\n",
    "environment EN\n",
    "\n",
    "| Tarefa | Conda | Pip | Virtualenv |\n",
    "| :- | :-: | :-: | :-: |\n",
    "|Instalar um pacote\t| conda install \\\\$PACKAGE\\_NAME |pip install \\\\$PACKAGE\\_NAME | X |\n",
    "|Atualizar um pacote | conda update --name \\\\$PACKAGE\\_NAME \\\\$ENVIRONMENT\\_NAME | pip install --upgrade \\\\$PACKAGE\\_NAME |X|\n",
    "|Atualizar o gerenciador de pacotes | conda update conda | Linux/OSX: pip install -U pip <br /> Win: python -m pip install -U pip |\tX |\n",
    "|Desinstalar um pacote | conda remove --name \\\\$ENVIRONMENT\\_NAME \\\\$PACKAGE\\_NAME | pip uninstall \\\\$PACKAGE\\_NAME | X |\n",
    "|Criar um ambiente | conda create --name \\\\$ENVIRONMENT\\_NAME python | X | virtualenv \\\\$ENVIRONMENT\\_NAME |\n",
    "|Ativar um ambiente | conda activate \\\\$ENVIRONMENT\\_NAME | X | source EN/bin/activate |\n",
    "|Procurar pacotes disponíveis | conda search \\$SEARCH\\_TERM | pip search \\$SEARCH\\_TERM |X|\n",
    "|Instalar um pacote de uma localização específica | conda install --channel \\\\$URL \\\\$PACKAGE\\_NAME | pip install --index-url \\\\$URL \\$PACKAGE\\_NAME | X |\n",
    "|Listar pacotes instalados | conda list --name \\\\$ENVIRONMENT\\_NAME | pip list | X |\n",
    "|criar arquivo de requisitos | conda list --export | pip freeze | X |\n",
    "|Instalar outro gerenciador de pacotes | conda install pip | pip install conda | X |\n",
    "|Instalar Python | conda install python=x.x | X | X |\n",
    "|Atualizar Python | conda update python * | X | X |\n",
    "|Listar todos os ambientes | conda info --envs | X | Instalar o virtualenv wrapper, então lsvirtualenv | "
   ]
  }
 ],
 "metadata": {
  "kernelspec": {
   "display_name": "Python 3 (ipykernel)",
   "language": "python",
   "name": "python3"
  },
  "language_info": {
   "codemirror_mode": {
    "name": "ipython",
    "version": 3
   },
   "file_extension": ".py",
   "mimetype": "text/x-python",
   "name": "python",
   "nbconvert_exporter": "python",
   "pygments_lexer": "ipython3",
   "version": "3.8.10"
  },
  "latex_envs": {
   "LaTeX_envs_menu_present": false,
   "autoclose": false,
   "autocomplete": true,
   "bibliofile": "biblio.bib",
   "cite_by": "apalike",
   "current_citInitial": 1,
   "eqLabelWithNumbers": true,
   "eqNumInitial": 1,
   "hotkeys": {
    "equation": "Ctrl-E",
    "itemize": "Ctrl-I"
   },
   "labels_anchors": false,
   "latex_user_defs": false,
   "report_style_numbering": false,
   "user_envs_cfg": false
  },
  "livereveal": {
   "autolaunch": true
  }
 },
 "nbformat": 4,
 "nbformat_minor": 5
}
